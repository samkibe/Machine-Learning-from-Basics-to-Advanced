{
 "cells": [
  {
   "cell_type": "code",
   "execution_count": 81,
   "id": "1f8ef56d-b063-4d51-9e03-49e5404b59c3",
   "metadata": {},
   "outputs": [
    {
     "name": "stdout",
     "output_type": "stream",
     "text": [
      "Feature Selection Techniques\n"
     ]
    }
   ],
   "source": [
    "print(\"Feature Selection Techniques\")"
   ]
  },
  {
   "cell_type": "markdown",
   "id": "3bfd81d4-a9b2-45f0-8b58-ab894d81cc2f",
   "metadata": {},
   "source": [
    "#### Introduction to Feature Selection\n",
    "- Selecting features from the dataset\n",
    "- Improve estimator's accuracy\n",
    "- Boost preformance for high dimensional datsets\n",
    "- Below we will discuss univariate selection methods\n",
    "- Also, feature elimination method"
   ]
  },
  {
   "cell_type": "code",
   "execution_count": 82,
   "id": "32666a23-5874-454b-b890-57a17c7f3dd2",
   "metadata": {},
   "outputs": [],
   "source": [
    "from sklearn import feature_selection\n",
    "import pandas as pd\n",
    "import numpy as np\n",
    "import matplotlib.pyplot as plt\n",
    "%matplotlib inline"
   ]
  },
  {
   "cell_type": "markdown",
   "id": "f58b766c-e1a0-4c4d-9bb2-8fa8feaa10ff",
   "metadata": {},
   "source": [
    "#### 1. VarianceThreshold\n",
    "- Drop the columns whose variance is below configured level\n",
    "- This method is unsupervised .i.e target not taken into action\n",
    "- Intution : Columns whose values arn't petty much the same won't have much impact on target"
   ]
  },
  {
   "cell_type": "code",
   "execution_count": 83,
   "id": "118dfaf9-df45-4d2b-82d9-e5baf172364a",
   "metadata": {},
   "outputs": [],
   "source": [
    "df = pd.DataFrame({'A':['m','f','m','m','m','m','m','m'], \n",
    "              'B':[1,2,3,1,2,1,1,1], \n",
    "              'C':[1,2,3,1,2,1,1,1]})"
   ]
  },
  {
   "cell_type": "code",
   "execution_count": 84,
   "id": "d78dfd0d-39bc-4f4f-b945-d526a2b80b63",
   "metadata": {},
   "outputs": [
    {
     "data": {
      "text/html": [
       "<div>\n",
       "<style scoped>\n",
       "    .dataframe tbody tr th:only-of-type {\n",
       "        vertical-align: middle;\n",
       "    }\n",
       "\n",
       "    .dataframe tbody tr th {\n",
       "        vertical-align: top;\n",
       "    }\n",
       "\n",
       "    .dataframe thead th {\n",
       "        text-align: right;\n",
       "    }\n",
       "</style>\n",
       "<table border=\"1\" class=\"dataframe\">\n",
       "  <thead>\n",
       "    <tr style=\"text-align: right;\">\n",
       "      <th></th>\n",
       "      <th>A</th>\n",
       "      <th>B</th>\n",
       "      <th>C</th>\n",
       "    </tr>\n",
       "  </thead>\n",
       "  <tbody>\n",
       "    <tr>\n",
       "      <th>0</th>\n",
       "      <td>m</td>\n",
       "      <td>1</td>\n",
       "      <td>1</td>\n",
       "    </tr>\n",
       "    <tr>\n",
       "      <th>1</th>\n",
       "      <td>f</td>\n",
       "      <td>2</td>\n",
       "      <td>2</td>\n",
       "    </tr>\n",
       "    <tr>\n",
       "      <th>2</th>\n",
       "      <td>m</td>\n",
       "      <td>3</td>\n",
       "      <td>3</td>\n",
       "    </tr>\n",
       "    <tr>\n",
       "      <th>3</th>\n",
       "      <td>m</td>\n",
       "      <td>1</td>\n",
       "      <td>1</td>\n",
       "    </tr>\n",
       "    <tr>\n",
       "      <th>4</th>\n",
       "      <td>m</td>\n",
       "      <td>2</td>\n",
       "      <td>2</td>\n",
       "    </tr>\n",
       "    <tr>\n",
       "      <th>5</th>\n",
       "      <td>m</td>\n",
       "      <td>1</td>\n",
       "      <td>1</td>\n",
       "    </tr>\n",
       "    <tr>\n",
       "      <th>6</th>\n",
       "      <td>m</td>\n",
       "      <td>1</td>\n",
       "      <td>1</td>\n",
       "    </tr>\n",
       "    <tr>\n",
       "      <th>7</th>\n",
       "      <td>m</td>\n",
       "      <td>1</td>\n",
       "      <td>1</td>\n",
       "    </tr>\n",
       "  </tbody>\n",
       "</table>\n",
       "</div>"
      ],
      "text/plain": [
       "   A  B  C\n",
       "0  m  1  1\n",
       "1  f  2  2\n",
       "2  m  3  3\n",
       "3  m  1  1\n",
       "4  m  2  2\n",
       "5  m  1  1\n",
       "6  m  1  1\n",
       "7  m  1  1"
      ]
     },
     "execution_count": 84,
     "metadata": {},
     "output_type": "execute_result"
    }
   ],
   "source": [
    "df"
   ]
  },
  {
   "cell_type": "code",
   "execution_count": 85,
   "id": "a0c5014b-b0ba-4d59-b78f-9117d159f102",
   "metadata": {},
   "outputs": [],
   "source": [
    "from sklearn.preprocessing import LabelEncoder\n",
    "le = LabelEncoder()"
   ]
  },
  {
   "cell_type": "code",
   "execution_count": 86,
   "id": "36f996ac-a420-48be-a868-417149738603",
   "metadata": {},
   "outputs": [],
   "source": [
    "df['A'] = le.fit_transform(df.A)"
   ]
  },
  {
   "cell_type": "code",
   "execution_count": 87,
   "id": "19552001-f643-4981-92ed-e1eb115fec14",
   "metadata": {},
   "outputs": [
    {
     "data": {
      "text/html": [
       "<div>\n",
       "<style scoped>\n",
       "    .dataframe tbody tr th:only-of-type {\n",
       "        vertical-align: middle;\n",
       "    }\n",
       "\n",
       "    .dataframe tbody tr th {\n",
       "        vertical-align: top;\n",
       "    }\n",
       "\n",
       "    .dataframe thead th {\n",
       "        text-align: right;\n",
       "    }\n",
       "</style>\n",
       "<table border=\"1\" class=\"dataframe\">\n",
       "  <thead>\n",
       "    <tr style=\"text-align: right;\">\n",
       "      <th></th>\n",
       "      <th>A</th>\n",
       "      <th>B</th>\n",
       "      <th>C</th>\n",
       "    </tr>\n",
       "  </thead>\n",
       "  <tbody>\n",
       "    <tr>\n",
       "      <th>0</th>\n",
       "      <td>1</td>\n",
       "      <td>1</td>\n",
       "      <td>1</td>\n",
       "    </tr>\n",
       "    <tr>\n",
       "      <th>1</th>\n",
       "      <td>0</td>\n",
       "      <td>2</td>\n",
       "      <td>2</td>\n",
       "    </tr>\n",
       "    <tr>\n",
       "      <th>2</th>\n",
       "      <td>1</td>\n",
       "      <td>3</td>\n",
       "      <td>3</td>\n",
       "    </tr>\n",
       "    <tr>\n",
       "      <th>3</th>\n",
       "      <td>1</td>\n",
       "      <td>1</td>\n",
       "      <td>1</td>\n",
       "    </tr>\n",
       "    <tr>\n",
       "      <th>4</th>\n",
       "      <td>1</td>\n",
       "      <td>2</td>\n",
       "      <td>2</td>\n",
       "    </tr>\n",
       "    <tr>\n",
       "      <th>5</th>\n",
       "      <td>1</td>\n",
       "      <td>1</td>\n",
       "      <td>1</td>\n",
       "    </tr>\n",
       "    <tr>\n",
       "      <th>6</th>\n",
       "      <td>1</td>\n",
       "      <td>1</td>\n",
       "      <td>1</td>\n",
       "    </tr>\n",
       "    <tr>\n",
       "      <th>7</th>\n",
       "      <td>1</td>\n",
       "      <td>1</td>\n",
       "      <td>1</td>\n",
       "    </tr>\n",
       "  </tbody>\n",
       "</table>\n",
       "</div>"
      ],
      "text/plain": [
       "   A  B  C\n",
       "0  1  1  1\n",
       "1  0  2  2\n",
       "2  1  3  3\n",
       "3  1  1  1\n",
       "4  1  2  2\n",
       "5  1  1  1\n",
       "6  1  1  1\n",
       "7  1  1  1"
      ]
     },
     "execution_count": 87,
     "metadata": {},
     "output_type": "execute_result"
    }
   ],
   "source": [
    "df"
   ]
  },
  {
   "cell_type": "code",
   "execution_count": 88,
   "id": "96718d61-289d-4e05-b331-47eb416377a1",
   "metadata": {},
   "outputs": [],
   "source": [
    "vt = feature_selection.VarianceThreshold(threshold=.2)"
   ]
  },
  {
   "cell_type": "code",
   "execution_count": 89,
   "id": "8afc8bbe-4ad9-4608-ac38-ab4734f18d42",
   "metadata": {},
   "outputs": [
    {
     "data": {
      "text/plain": [
       "array([[1, 1],\n",
       "       [2, 2],\n",
       "       [3, 3],\n",
       "       [1, 1],\n",
       "       [2, 2],\n",
       "       [1, 1],\n",
       "       [1, 1],\n",
       "       [1, 1]], dtype=int64)"
      ]
     },
     "execution_count": 89,
     "metadata": {},
     "output_type": "execute_result"
    }
   ],
   "source": [
    "vt.fit_transform(df)"
   ]
  },
  {
   "cell_type": "code",
   "execution_count": 90,
   "id": "b2fa4928-c67c-4959-85eb-e3305df0fd03",
   "metadata": {},
   "outputs": [
    {
     "data": {
      "text/plain": [
       "array([0.109375, 0.5     , 0.5     ])"
      ]
     },
     "execution_count": 90,
     "metadata": {},
     "output_type": "execute_result"
    }
   ],
   "source": [
    "vt.variances_"
   ]
  },
  {
   "cell_type": "markdown",
   "id": "525e4dfb-87e0-42d4-8a1a-adba74e6cace",
   "metadata": {},
   "source": [
    "#### 2. Chi-Square for Non-negative feature & class\n",
    "- Feature data should be booleans or count\n",
    "- Supervised technique for feature selection\n",
    "- Target should be discrete"
   ]
  },
  {
   "cell_type": "code",
   "execution_count": 91,
   "id": "3e647b9c-1d0a-44ed-b509-9a056743c0e9",
   "metadata": {},
   "outputs": [],
   "source": [
    "df = pd.read_csv('tennis.csv.txt')"
   ]
  },
  {
   "cell_type": "code",
   "execution_count": 92,
   "id": "3a3618ea-dada-4d6d-b784-1a0bf6d61c16",
   "metadata": {},
   "outputs": [],
   "source": [
    "for col in df.columns:\n",
    "    le = LabelEncoder()\n",
    "    df[col] = le.fit_transform(df[col])"
   ]
  },
  {
   "cell_type": "code",
   "execution_count": 93,
   "id": "d48ea5a2-cce1-440e-abf1-c5e50979a024",
   "metadata": {},
   "outputs": [
    {
     "data": {
      "text/html": [
       "<div>\n",
       "<style scoped>\n",
       "    .dataframe tbody tr th:only-of-type {\n",
       "        vertical-align: middle;\n",
       "    }\n",
       "\n",
       "    .dataframe tbody tr th {\n",
       "        vertical-align: top;\n",
       "    }\n",
       "\n",
       "    .dataframe thead th {\n",
       "        text-align: right;\n",
       "    }\n",
       "</style>\n",
       "<table border=\"1\" class=\"dataframe\">\n",
       "  <thead>\n",
       "    <tr style=\"text-align: right;\">\n",
       "      <th></th>\n",
       "      <th>outlook</th>\n",
       "      <th>temp</th>\n",
       "      <th>humidity</th>\n",
       "      <th>windy</th>\n",
       "      <th>play</th>\n",
       "    </tr>\n",
       "  </thead>\n",
       "  <tbody>\n",
       "    <tr>\n",
       "      <th>0</th>\n",
       "      <td>2</td>\n",
       "      <td>1</td>\n",
       "      <td>0</td>\n",
       "      <td>0</td>\n",
       "      <td>0</td>\n",
       "    </tr>\n",
       "    <tr>\n",
       "      <th>1</th>\n",
       "      <td>2</td>\n",
       "      <td>1</td>\n",
       "      <td>0</td>\n",
       "      <td>1</td>\n",
       "      <td>0</td>\n",
       "    </tr>\n",
       "    <tr>\n",
       "      <th>2</th>\n",
       "      <td>0</td>\n",
       "      <td>1</td>\n",
       "      <td>0</td>\n",
       "      <td>0</td>\n",
       "      <td>1</td>\n",
       "    </tr>\n",
       "    <tr>\n",
       "      <th>3</th>\n",
       "      <td>1</td>\n",
       "      <td>2</td>\n",
       "      <td>0</td>\n",
       "      <td>0</td>\n",
       "      <td>1</td>\n",
       "    </tr>\n",
       "    <tr>\n",
       "      <th>4</th>\n",
       "      <td>1</td>\n",
       "      <td>0</td>\n",
       "      <td>1</td>\n",
       "      <td>0</td>\n",
       "      <td>1</td>\n",
       "    </tr>\n",
       "    <tr>\n",
       "      <th>5</th>\n",
       "      <td>1</td>\n",
       "      <td>0</td>\n",
       "      <td>1</td>\n",
       "      <td>1</td>\n",
       "      <td>0</td>\n",
       "    </tr>\n",
       "    <tr>\n",
       "      <th>6</th>\n",
       "      <td>0</td>\n",
       "      <td>0</td>\n",
       "      <td>1</td>\n",
       "      <td>1</td>\n",
       "      <td>1</td>\n",
       "    </tr>\n",
       "    <tr>\n",
       "      <th>7</th>\n",
       "      <td>2</td>\n",
       "      <td>2</td>\n",
       "      <td>0</td>\n",
       "      <td>0</td>\n",
       "      <td>0</td>\n",
       "    </tr>\n",
       "    <tr>\n",
       "      <th>8</th>\n",
       "      <td>2</td>\n",
       "      <td>0</td>\n",
       "      <td>1</td>\n",
       "      <td>0</td>\n",
       "      <td>1</td>\n",
       "    </tr>\n",
       "    <tr>\n",
       "      <th>9</th>\n",
       "      <td>1</td>\n",
       "      <td>2</td>\n",
       "      <td>1</td>\n",
       "      <td>0</td>\n",
       "      <td>1</td>\n",
       "    </tr>\n",
       "    <tr>\n",
       "      <th>10</th>\n",
       "      <td>2</td>\n",
       "      <td>2</td>\n",
       "      <td>1</td>\n",
       "      <td>1</td>\n",
       "      <td>1</td>\n",
       "    </tr>\n",
       "    <tr>\n",
       "      <th>11</th>\n",
       "      <td>0</td>\n",
       "      <td>2</td>\n",
       "      <td>0</td>\n",
       "      <td>1</td>\n",
       "      <td>1</td>\n",
       "    </tr>\n",
       "    <tr>\n",
       "      <th>12</th>\n",
       "      <td>0</td>\n",
       "      <td>1</td>\n",
       "      <td>1</td>\n",
       "      <td>0</td>\n",
       "      <td>1</td>\n",
       "    </tr>\n",
       "    <tr>\n",
       "      <th>13</th>\n",
       "      <td>1</td>\n",
       "      <td>2</td>\n",
       "      <td>0</td>\n",
       "      <td>1</td>\n",
       "      <td>0</td>\n",
       "    </tr>\n",
       "  </tbody>\n",
       "</table>\n",
       "</div>"
      ],
      "text/plain": [
       "    outlook  temp  humidity  windy  play\n",
       "0         2     1         0      0     0\n",
       "1         2     1         0      1     0\n",
       "2         0     1         0      0     1\n",
       "3         1     2         0      0     1\n",
       "4         1     0         1      0     1\n",
       "5         1     0         1      1     0\n",
       "6         0     0         1      1     1\n",
       "7         2     2         0      0     0\n",
       "8         2     0         1      0     1\n",
       "9         1     2         1      0     1\n",
       "10        2     2         1      1     1\n",
       "11        0     2         0      1     1\n",
       "12        0     1         1      0     1\n",
       "13        1     2         0      1     0"
      ]
     },
     "execution_count": 93,
     "metadata": {},
     "output_type": "execute_result"
    }
   ],
   "source": [
    "df"
   ]
  },
  {
   "cell_type": "code",
   "execution_count": 94,
   "id": "a02c589b-1476-4f40-b32c-e322b8674c8e",
   "metadata": {},
   "outputs": [],
   "source": [
    "chi2, pval = feature_selection.chi2(df.drop('play',axis=1),df.play)"
   ]
  },
  {
   "cell_type": "code",
   "execution_count": 95,
   "id": "6c279254-5e14-431c-9f9a-93199694b15c",
   "metadata": {},
   "outputs": [
    {
     "data": {
      "text/plain": [
       "array([2.02814815, 0.02222222, 1.4       , 0.53333333])"
      ]
     },
     "execution_count": 95,
     "metadata": {},
     "output_type": "execute_result"
    }
   ],
   "source": [
    "chi2"
   ]
  },
  {
   "cell_type": "markdown",
   "id": "e124fa9c-eac7-4c54-88fa-dd025725658f",
   "metadata": {},
   "source": [
    "\n",
    "- Higher value means more important feature for target\n",
    "#### 3. ANOVA using f_classif\n",
    "- For feature variables continues in nature\n",
    "- And, target variable discrete in nature\n",
    "- Internally, this method uses ratio of variation within a columns & variation across column"
   ]
  },
  {
   "cell_type": "code",
   "execution_count": 96,
   "id": "9242c020-8ac7-44f0-b8ed-00ce0ca9d0be",
   "metadata": {},
   "outputs": [],
   "source": [
    "from sklearn.datasets import load_breast_cancer"
   ]
  },
  {
   "cell_type": "code",
   "execution_count": 97,
   "id": "3df7d91e-eda1-4c66-bcbf-2ece022b7b1e",
   "metadata": {},
   "outputs": [],
   "source": [
    "cancer_data = load_breast_cancer()"
   ]
  },
  {
   "cell_type": "code",
   "execution_count": 98,
   "id": "52dcc301-bb43-4fc1-b996-9150a7dfd052",
   "metadata": {},
   "outputs": [],
   "source": [
    "X = cancer_data.data\n",
    "Y = cancer_data.target"
   ]
  },
  {
   "cell_type": "code",
   "execution_count": 99,
   "id": "a84b5dbc-b249-4baa-98de-1d84546fd1ae",
   "metadata": {},
   "outputs": [],
   "source": [
    "chi2, pval = feature_selection.f_classif(X,Y)"
   ]
  },
  {
   "cell_type": "code",
   "execution_count": 100,
   "id": "2792b752-2d06-4eba-a174-e0f7c4559c40",
   "metadata": {},
   "outputs": [
    {
     "data": {
      "text/plain": [
       "array([647., 118., 697., 573.,  84., 313., 534., 862.,  70.,   0., 269.,\n",
       "         0., 254., 244.,   3.,  53.,  39., 113.,   0.,   3., 861., 150.,\n",
       "       898., 662., 122., 304., 437., 964., 119.,  66.])"
      ]
     },
     "execution_count": 100,
     "metadata": {},
     "output_type": "execute_result"
    }
   ],
   "source": [
    "np.round(chi2)"
   ]
  },
  {
   "cell_type": "markdown",
   "id": "df93a144-d13f-48b8-9987-c18345e82bc4",
   "metadata": {},
   "source": [
    "- Each value represents importance of a feature\n",
    "#### 4. Univariate Regression Test using f_regression\n",
    "- Linear model for testing the individual effect of each of many regressors.\n",
    "- Correlation between each value & target is calculated\n",
    "- F-test captures linear dependency"
   ]
  },
  {
   "cell_type": "code",
   "execution_count": 101,
   "id": "f1d7d4c3-0613-4442-894d-f11ae678f37f",
   "metadata": {},
   "outputs": [],
   "source": [
    "from sklearn.datasets import fetch_california_housing"
   ]
  },
  {
   "cell_type": "code",
   "execution_count": 102,
   "id": "b2afe2eb-6abc-4f17-9520-dcdb6ea89b93",
   "metadata": {},
   "outputs": [],
   "source": [
    "house_data = fetch_california_housing()"
   ]
  },
  {
   "cell_type": "code",
   "execution_count": 103,
   "id": "cae794ad-e724-4b50-9e77-79631139ea1d",
   "metadata": {},
   "outputs": [],
   "source": [
    "X,Y = house_data.data, house_data.target"
   ]
  },
  {
   "cell_type": "code",
   "execution_count": 104,
   "id": "01f59abf-6266-455e-a550-8e27c4b097ee",
   "metadata": {},
   "outputs": [],
   "source": [
    "F, pval = feature_selection.f_regression(X,Y)"
   ]
  },
  {
   "cell_type": "code",
   "execution_count": 105,
   "id": "d7a08b3e-13d6-48ee-a330-68bead073e41",
   "metadata": {},
   "outputs": [
    {
     "data": {
      "text/plain": [
       "array([1.85565716e+04, 2.32841479e+02, 4.87757462e+02, 4.51085756e+01,\n",
       "       1.25474103e+01, 1.16353421e+01, 4.38005453e+02, 4.36989761e+01])"
      ]
     },
     "execution_count": 105,
     "metadata": {},
     "output_type": "execute_result"
    }
   ],
   "source": [
    "F"
   ]
  },
  {
   "cell_type": "markdown",
   "id": "657542cc-8e16-4629-8998-02d8ec24dcd2",
   "metadata": {},
   "source": [
    "- Columns with top F values are the selected features\n",
    "#### 5. F score verses Mutual Information"
   ]
  },
  {
   "cell_type": "code",
   "execution_count": 106,
   "id": "63a165d1-20cc-4a09-bd54-79c3c5db8161",
   "metadata": {},
   "outputs": [],
   "source": [
    "np.random.seed(0)\n",
    "X = np.random.rand(1000, 3)\n",
    "y = X[:, 0] + np.sin(6 * np.pi * X[:, 1]) + 0.1 * np.random.randn(1000)"
   ]
  },
  {
   "cell_type": "code",
   "execution_count": 107,
   "id": "694652b9-ee15-44f7-8778-5df652e03900",
   "metadata": {},
   "outputs": [
    {
     "data": {
      "text/plain": [
       "(array([187.42118421,  52.52357392,   0.47268298]),\n",
       " array([3.19286906e-39, 8.50243215e-13, 4.91915197e-01]))"
      ]
     },
     "execution_count": 107,
     "metadata": {},
     "output_type": "execute_result"
    }
   ],
   "source": [
    "feature_selection.f_regression(X,y)"
   ]
  },
  {
   "cell_type": "code",
   "execution_count": 108,
   "id": "136a78af-18b9-4a68-b20c-cb0199e80237",
   "metadata": {},
   "outputs": [
    {
     "data": {
      "text/plain": [
       "<matplotlib.collections.PathCollection at 0x1908419c500>"
      ]
     },
     "execution_count": 108,
     "metadata": {},
     "output_type": "execute_result"
    }
   ],
   "source": [
    "plt.scatter(X[:,0],y,s=10)"
   ]
  },
  {
   "cell_type": "code",
   "execution_count": 109,
   "id": "647c2fba-d08e-4ac8-92f7-f59d5f4f20ca",
   "metadata": {},
   "outputs": [
    {
     "data": {
      "image/png": "[encoded data removed]",
      "text/plain": [
       "<Figure size 640x480 with 1 Axes>"
      ]
     },
     "metadata": {},
     "output_type": "display_data"
    }
   ],
   "source": [
    "plt.show()"
   ]
  },
  {
   "cell_type": "code",
   "execution_count": 110,
   "id": "6f976f85-844e-4e91-b300-e61152e6560f",
   "metadata": {},
   "outputs": [
    {
     "data": {
      "text/plain": [
       "<matplotlib.collections.PathCollection at 0x19082180a70>"
      ]
     },
     "execution_count": 110,
     "metadata": {},
     "output_type": "execute_result"
    }
   ],
   "source": [
    "plt.scatter(X[:,1],y,s=10)"
   ]
  },
  {
   "cell_type": "code",
   "execution_count": 111,
   "id": "72353512-f081-4ebf-a990-4ddc2c306383",
   "metadata": {},
   "outputs": [
    {
     "data": {
      "image/png": "[encoded data removed]",
      "text/plain": [
       "<Figure size 640x480 with 1 Axes>"
      ]
     },
     "metadata": {},
     "output_type": "display_data"
    }
   ],
   "source": [
    "plt.show()"
   ]
  },
  {
   "cell_type": "markdown",
   "id": "c11d0805-b5c0-4bf2-8d36-21cc26a7f6e5",
   "metadata": {},
   "source": [
    "#### 6. Mutual Information for regression using mutual_info_regression\n",
    "- Returns dependency in the scale of 0 & 1 among feature & target\n",
    "- Captures any kind of dependency even if non-linear\n",
    "- Target is continues in nature"
   ]
  },
  {
   "cell_type": "code",
   "execution_count": 112,
   "id": "1d1cf090-ef4d-47ed-a92a-fcaf9e15a353",
   "metadata": {},
   "outputs": [
    {
     "data": {
      "text/plain": [
       "array([0.31431334, 0.86235026, 0.        ])"
      ]
     },
     "execution_count": 112,
     "metadata": {},
     "output_type": "execute_result"
    }
   ],
   "source": [
    "feature_selection.mutual_info_regression(X,y)"
   ]
  },
  {
   "cell_type": "markdown",
   "id": "76f7ec05-001f-4f75-92a1-e6bd1513a10e",
   "metadata": {},
   "source": [
    "#### 7. Mutual Information for classification using mutual_info_classification\n",
    "- Returns dependency in the scale of 0 & 1 among feature & target\n",
    "- Captures any kind of dependency even if non-linear\n",
    "- Target is discrete in nature"
   ]
  },
  {
   "cell_type": "code",
   "execution_count": 113,
   "id": "ab4b3708-a5b2-4f8f-8e39-ea665d8b72d9",
   "metadata": {},
   "outputs": [],
   "source": [
    "cols = ['age','workclass','fnlwgt','education','education-num','marital-status','occupation','relationship'\n",
    "        ,'race','sex','capital-gain','capital-loss','hours-per-week','native-country','Salary']\n",
    "adult_data = pd.read_csv('https://raw.githubusercontent.com/zekelabs/data-science-complete-tutorial/master/Data/adult.data.txt', names=cols)"
   ]
  },
  {
   "cell_type": "code",
   "execution_count": 114,
   "id": "9a438c28-ce0c-4261-a392-8a82bbbaf8bf",
   "metadata": {},
   "outputs": [],
   "source": [
    "cat_cols = list(adult_data.select_dtypes('object').columns)"
   ]
  },
  {
   "cell_type": "code",
   "execution_count": 115,
   "id": "c331a7a4-b150-4cd6-9a61-24246b58a3e4",
   "metadata": {},
   "outputs": [],
   "source": [
    "cat_cols.remove('Salary')"
   ]
  },
  {
   "cell_type": "code",
   "execution_count": 116,
   "id": "b51130c1-8f55-40bd-b9d9-423f1a63f6d6",
   "metadata": {},
   "outputs": [],
   "source": [
    "from sklearn.preprocessing import LabelEncoder"
   ]
  },
  {
   "cell_type": "code",
   "execution_count": 117,
   "id": "57e8dd54-f322-4655-9fd1-8b3abe978a98",
   "metadata": {},
   "outputs": [],
   "source": [
    "for col in cat_cols:\n",
    "    le = LabelEncoder()\n",
    "    adult_data[col]  = le.fit_transform(adult_data[col])"
   ]
  },
  {
   "cell_type": "code",
   "execution_count": 118,
   "id": "5b6aa0a3-ef9b-43b1-ae06-8890bcddce97",
   "metadata": {},
   "outputs": [
    {
     "name": "stdout",
     "output_type": "stream",
     "text": [
      "marital-status    0.112288\n",
      "relationship      0.110219\n",
      "capital-gain      0.085603\n",
      "education         0.072701\n",
      "occupation        0.065751\n",
      "education-num     0.064033\n",
      "age               0.063580\n",
      "hours-per-week    0.038345\n",
      "capital-loss      0.033543\n",
      "fnlwgt            0.032382\n",
      "sex               0.029320\n",
      "workclass         0.018211\n",
      "native-country    0.014228\n",
      "race              0.009130\n",
      "dtype: float64\n"
     ]
    }
   ],
   "source": [
    "#feature_selection.mutual_info_classif(adult_data, adult_data.Salary)\n",
    "\n",
    "from sklearn.feature_selection import mutual_info_classif\n",
    "\n",
    "# Assuming 'adult_data' is your DataFrame\n",
    "# Step 1: Separate features and target\n",
    "X = adult_data.drop(columns=['Salary'])\n",
    "y = adult_data['Salary']\n",
    "\n",
    "# Step 2: Encode target column\n",
    "label_encoder = LabelEncoder()\n",
    "y_encoded = label_encoder.fit_transform(y)\n",
    "\n",
    "# Step 3: Encode features (One-Hot Encoding)\n",
    "X_encoded = pd.get_dummies(X)\n",
    "\n",
    "# Step 4: Calculate mutual information scores\n",
    "mi_scores = mutual_info_classif(X_encoded, y_encoded)\n",
    "\n",
    "# Step 5: Display feature importance\n",
    "feature_scores = pd.Series(mi_scores, index=X_encoded.columns)\n",
    "print(feature_scores.sort_values(ascending=False))\n"
   ]
  },
  {
   "cell_type": "code",
   "execution_count": 119,
   "id": "31821181-2faa-40f7-915f-067aa1a53a5e",
   "metadata": {},
   "outputs": [
    {
     "data": {
      "text/plain": [
       "Index(['age', 'workclass', 'fnlwgt', 'education', 'education-num',\n",
       "       'marital-status', 'occupation', 'relationship', 'race', 'sex',\n",
       "       'capital-gain', 'capital-loss', 'hours-per-week', 'native-country',\n",
       "       'Salary'],\n",
       "      dtype='object')"
      ]
     },
     "execution_count": 119,
     "metadata": {},
     "output_type": "execute_result"
    }
   ],
   "source": [
    "adult_data.columns"
   ]
  },
  {
   "cell_type": "markdown",
   "id": "a497947d-6b40-4218-bd8e-e47706f53183",
   "metadata": {},
   "source": [
    "\n",
    "#### 8. SelectKBest\n",
    "- SelectKBest returns K important features based on above techniques\n",
    "- Based on configuration, it can use mutual_information or ANOVA or regression based techniques"
   ]
  },
  {
   "cell_type": "code",
   "execution_count": 120,
   "id": "7372aac7-d303-44fe-9421-4eb61dc4c020",
   "metadata": {},
   "outputs": [
    {
     "data": {
      "text/html": [
       "<div>\n",
       "<style scoped>\n",
       "    .dataframe tbody tr th:only-of-type {\n",
       "        vertical-align: middle;\n",
       "    }\n",
       "\n",
       "    .dataframe tbody tr th {\n",
       "        vertical-align: top;\n",
       "    }\n",
       "\n",
       "    .dataframe thead th {\n",
       "        text-align: right;\n",
       "    }\n",
       "</style>\n",
       "<table border=\"1\" class=\"dataframe\">\n",
       "  <thead>\n",
       "    <tr style=\"text-align: right;\">\n",
       "      <th></th>\n",
       "      <th>age</th>\n",
       "      <th>workclass</th>\n",
       "      <th>fnlwgt</th>\n",
       "      <th>education</th>\n",
       "      <th>education-num</th>\n",
       "      <th>marital-status</th>\n",
       "      <th>occupation</th>\n",
       "      <th>relationship</th>\n",
       "      <th>race</th>\n",
       "      <th>sex</th>\n",
       "      <th>capital-gain</th>\n",
       "      <th>capital-loss</th>\n",
       "      <th>hours-per-week</th>\n",
       "      <th>native-country</th>\n",
       "      <th>Salary</th>\n",
       "    </tr>\n",
       "  </thead>\n",
       "  <tbody>\n",
       "    <tr>\n",
       "      <th>0</th>\n",
       "      <td>39</td>\n",
       "      <td>7</td>\n",
       "      <td>77516</td>\n",
       "      <td>9</td>\n",
       "      <td>13</td>\n",
       "      <td>4</td>\n",
       "      <td>1</td>\n",
       "      <td>1</td>\n",
       "      <td>4</td>\n",
       "      <td>1</td>\n",
       "      <td>2174</td>\n",
       "      <td>0</td>\n",
       "      <td>40</td>\n",
       "      <td>39</td>\n",
       "      <td>&lt;=50K</td>\n",
       "    </tr>\n",
       "    <tr>\n",
       "      <th>1</th>\n",
       "      <td>50</td>\n",
       "      <td>6</td>\n",
       "      <td>83311</td>\n",
       "      <td>9</td>\n",
       "      <td>13</td>\n",
       "      <td>2</td>\n",
       "      <td>4</td>\n",
       "      <td>0</td>\n",
       "      <td>4</td>\n",
       "      <td>1</td>\n",
       "      <td>0</td>\n",
       "      <td>0</td>\n",
       "      <td>13</td>\n",
       "      <td>39</td>\n",
       "      <td>&lt;=50K</td>\n",
       "    </tr>\n",
       "    <tr>\n",
       "      <th>2</th>\n",
       "      <td>38</td>\n",
       "      <td>4</td>\n",
       "      <td>215646</td>\n",
       "      <td>11</td>\n",
       "      <td>9</td>\n",
       "      <td>0</td>\n",
       "      <td>6</td>\n",
       "      <td>1</td>\n",
       "      <td>4</td>\n",
       "      <td>1</td>\n",
       "      <td>0</td>\n",
       "      <td>0</td>\n",
       "      <td>40</td>\n",
       "      <td>39</td>\n",
       "      <td>&lt;=50K</td>\n",
       "    </tr>\n",
       "    <tr>\n",
       "      <th>3</th>\n",
       "      <td>53</td>\n",
       "      <td>4</td>\n",
       "      <td>234721</td>\n",
       "      <td>1</td>\n",
       "      <td>7</td>\n",
       "      <td>2</td>\n",
       "      <td>6</td>\n",
       "      <td>0</td>\n",
       "      <td>2</td>\n",
       "      <td>1</td>\n",
       "      <td>0</td>\n",
       "      <td>0</td>\n",
       "      <td>40</td>\n",
       "      <td>39</td>\n",
       "      <td>&lt;=50K</td>\n",
       "    </tr>\n",
       "    <tr>\n",
       "      <th>4</th>\n",
       "      <td>28</td>\n",
       "      <td>4</td>\n",
       "      <td>338409</td>\n",
       "      <td>9</td>\n",
       "      <td>13</td>\n",
       "      <td>2</td>\n",
       "      <td>10</td>\n",
       "      <td>5</td>\n",
       "      <td>2</td>\n",
       "      <td>0</td>\n",
       "      <td>0</td>\n",
       "      <td>0</td>\n",
       "      <td>40</td>\n",
       "      <td>5</td>\n",
       "      <td>&lt;=50K</td>\n",
       "    </tr>\n",
       "  </tbody>\n",
       "</table>\n",
       "</div>"
      ],
      "text/plain": [
       "   age  workclass  fnlwgt  education  education-num  marital-status  \\\n",
       "0   39          7   77516          9             13               4   \n",
       "1   50          6   83311          9             13               2   \n",
       "2   38          4  215646         11              9               0   \n",
       "3   53          4  234721          1              7               2   \n",
       "4   28          4  338409          9             13               2   \n",
       "\n",
       "   occupation  relationship  race  sex  capital-gain  capital-loss  \\\n",
       "0           1             1     4    1          2174             0   \n",
       "1           4             0     4    1             0             0   \n",
       "2           6             1     4    1             0             0   \n",
       "3           6             0     2    1             0             0   \n",
       "4          10             5     2    0             0             0   \n",
       "\n",
       "   hours-per-week  native-country  Salary  \n",
       "0              40              39   <=50K  \n",
       "1              13              39   <=50K  \n",
       "2              40              39   <=50K  \n",
       "3              40              39   <=50K  \n",
       "4              40               5   <=50K  "
      ]
     },
     "execution_count": 120,
     "metadata": {},
     "output_type": "execute_result"
    }
   ],
   "source": [
    "adult_data.head()"
   ]
  },
  {
   "cell_type": "code",
   "execution_count": 121,
   "id": "4386dfea-d030-4b5d-95af-ce08956a15ff",
   "metadata": {},
   "outputs": [],
   "source": [
    "selector = feature_selection.SelectKBest(k=7, score_func=feature_selection.f_classif)"
   ]
  },
  {
   "cell_type": "code",
   "execution_count": 122,
   "id": "ecbdac7d-5250-4d85-a524-da97d7f1aa24",
   "metadata": {},
   "outputs": [],
   "source": [
    "data = selector.fit_transform(adult_data.drop('Salary',axis=1),adult_data.Salary)"
   ]
  },
  {
   "cell_type": "code",
   "execution_count": 123,
   "id": "11a09c9e-38dc-407a-8b57-80cd3cba3fe5",
   "metadata": {},
   "outputs": [
    {
     "data": {
      "text/plain": [
       "array([1.88670731e+03, 8.69361605e+01, 2.91559359e+00, 2.06129509e+02,\n",
       "       4.12009578e+03, 1.34685178e+03, 1.86500322e+02, 2.18764583e+03,\n",
       "       1.68934788e+02, 1.59310791e+03, 1.70915006e+03, 7.54830452e+02,\n",
       "       1.81338628e+03, 8.17155711e+00])"
      ]
     },
     "execution_count": 123,
     "metadata": {},
     "output_type": "execute_result"
    }
   ],
   "source": [
    "selector.scores_"
   ]
  },
  {
   "cell_type": "code",
   "execution_count": 124,
   "id": "d7640f9c-a383-4c05-98b6-958a25cab9b0",
   "metadata": {},
   "outputs": [
    {
     "data": {
      "text/plain": [
       "array([  39,   13,    4,    1,    1, 2174,   40], dtype=int64)"
      ]
     },
     "execution_count": 124,
     "metadata": {},
     "output_type": "execute_result"
    }
   ],
   "source": [
    "data[0]"
   ]
  },
  {
   "cell_type": "code",
   "execution_count": 125,
   "id": "fffd19b1-adb6-41ff-88be-002a2e7823c8",
   "metadata": {},
   "outputs": [],
   "source": [
    "selector = feature_selection.SelectKBest(k=7, score_func=feature_selection.mutual_info_classif)"
   ]
  },
  {
   "cell_type": "code",
   "execution_count": 126,
   "id": "c3f79b47-24b7-404d-bf6f-cf75ab51731f",
   "metadata": {},
   "outputs": [],
   "source": [
    "data = selector.fit_transform(adult_data.drop('Salary',axis=1),adult_data.Salary)"
   ]
  },
  {
   "cell_type": "code",
   "execution_count": 127,
   "id": "7995d466-76b9-4931-9197-fdcda682a91d",
   "metadata": {},
   "outputs": [
    {
     "data": {
      "text/plain": [
       "array([0.07147296, 0.01569743, 0.03278414, 0.0639516 , 0.06384592,\n",
       "       0.11132103, 0.06517786, 0.11252332, 0.01152571, 0.02784815,\n",
       "       0.08624283, 0.03116002, 0.04483658, 0.00917329])"
      ]
     },
     "execution_count": 127,
     "metadata": {},
     "output_type": "execute_result"
    }
   ],
   "source": [
    "selector.scores_"
   ]
  },
  {
   "cell_type": "code",
   "execution_count": 128,
   "id": "4e6c6786-5d15-4352-b92c-df4c7c7c40b4",
   "metadata": {},
   "outputs": [
    {
     "data": {
      "text/plain": [
       "array([  39,    9,   13,    4,    1,    1, 2174], dtype=int64)"
      ]
     },
     "execution_count": 128,
     "metadata": {},
     "output_type": "execute_result"
    }
   ],
   "source": [
    "data[0]"
   ]
  },
  {
   "cell_type": "markdown",
   "id": "68d28304-f491-4014-9afb-53e4208cb00e",
   "metadata": {},
   "source": [
    "#### 9. SelectPercentile\n",
    "- Selecting top features whose importances are in configured parameter\n",
    "- Default is top 10 percentile"
   ]
  },
  {
   "cell_type": "code",
   "execution_count": 129,
   "id": "2431ffb9-8130-45fc-bc4b-1d845db60699",
   "metadata": {},
   "outputs": [],
   "source": [
    "selector = feature_selection.SelectPercentile(percentile=20, score_func=feature_selection.mutual_info_classif)"
   ]
  },
  {
   "cell_type": "code",
   "execution_count": 130,
   "id": "192d1642-1826-4863-b4a2-8d49c62030f8",
   "metadata": {},
   "outputs": [],
   "source": [
    "data = selector.fit_transform(adult_data.drop('Salary',axis=1),adult_data.Salary)"
   ]
  },
  {
   "cell_type": "code",
   "execution_count": 131,
   "id": "0e05d832-8f3e-4347-bd3b-fbdecbef6d2a",
   "metadata": {},
   "outputs": [
    {
     "data": {
      "text/plain": [
       "array([[   4,    1, 2174],\n",
       "       [   2,    0,    0],\n",
       "       [   0,    1,    0],\n",
       "       [   2,    0,    0],\n",
       "       [   2,    5,    0]], dtype=int64)"
      ]
     },
     "execution_count": 131,
     "metadata": {},
     "output_type": "execute_result"
    }
   ],
   "source": [
    "data[:5]"
   ]
  },
  {
   "cell_type": "markdown",
   "id": "9249a7c8-e63e-45f2-9c89-7cdf460fa5d6",
   "metadata": {},
   "source": [
    "#### 10. SelectFromModel\n",
    "- Selecting important features from model weights\n",
    "- The estimator should support 'feature_importances'"
   ]
  },
  {
   "cell_type": "code",
   "execution_count": 132,
   "id": "bb271dba-7de3-41c9-8690-cc05be47cab8",
   "metadata": {},
   "outputs": [
    {
     "ename": "ImportError",
     "evalue": "\n`load_boston` has been removed from scikit-learn since version 1.2.\n\nThe Boston housing prices dataset has an ethical problem: as\ninvestigated in [1], the authors of this dataset engineered a\nnon-invertible variable \"B\" assuming that racial self-segregation had a\npositive impact on house prices [2]. Furthermore the goal of the\nresearch that led to the creation of this dataset was to study the\nimpact of air quality but it did not give adequate demonstration of the\nvalidity of this assumption.\n\nThe scikit-learn maintainers therefore strongly discourage the use of\nthis dataset unless the purpose of the code is to study and educate\nabout ethical issues in data science and machine learning.\n\nIn this special case, you can fetch the dataset from the original\nsource::\n\n    import pandas as pd\n    import numpy as np\n\n    data_url = \"http://lib.stat.cmu.edu/datasets/boston\"\n    raw_df = pd.read_csv(data_url, sep=\"\\s+\", skiprows=22, header=None)\n    data = np.hstack([raw_df.values[::2, :], raw_df.values[1::2, :2]])\n    target = raw_df.values[1::2, 2]\n\nAlternative datasets include the California housing dataset and the\nAmes housing dataset. You can load the datasets as follows::\n\n    from sklearn.datasets import fetch_california_housing\n    housing = fetch_california_housing()\n\nfor the California housing dataset and::\n\n    from sklearn.datasets import fetch_openml\n    housing = fetch_openml(name=\"house_prices\", as_frame=True)\n\nfor the Ames housing dataset.\n\n[1] M Carlisle.\n\"Racist data destruction?\"\n<https://medium.com/@docintangible/racist-data-destruction-113e3eff54a8>\n\n[2] Harrison Jr, David, and Daniel L. Rubinfeld.\n\"Hedonic housing prices and the demand for clean air.\"\nJournal of environmental economics and management 5.1 (1978): 81-102.\n<https://www.researchgate.net/publication/4974606_Hedonic_housing_prices_and_the_demand_for_clean_air>\n",
     "output_type": "error",
     "traceback": [
      "\u001b[1;31m---------------------------------------------------------------------------\u001b[0m",
      "\u001b[1;31mImportError\u001b[0m                               Traceback (most recent call last)",
      "Cell \u001b[1;32mIn[132], line 1\u001b[0m\n\u001b[1;32m----> 1\u001b[0m \u001b[38;5;28;01mfrom\u001b[39;00m \u001b[38;5;21;01msklearn\u001b[39;00m\u001b[38;5;21;01m.\u001b[39;00m\u001b[38;5;21;01mdatasets\u001b[39;00m \u001b[38;5;28;01mimport\u001b[39;00m load_boston\n",
      "File \u001b[1;32m~\\anaconda3\\Lib\\site-packages\\sklearn\\datasets\\__init__.py:156\u001b[0m, in \u001b[0;36m__getattr__\u001b[1;34m(name)\u001b[0m\n\u001b[0;32m    105\u001b[0m \u001b[38;5;28;01mif\u001b[39;00m name \u001b[38;5;241m==\u001b[39m \u001b[38;5;124m\"\u001b[39m\u001b[38;5;124mload_boston\u001b[39m\u001b[38;5;124m\"\u001b[39m:\n\u001b[0;32m    106\u001b[0m     msg \u001b[38;5;241m=\u001b[39m textwrap\u001b[38;5;241m.\u001b[39mdedent(\n\u001b[0;32m    107\u001b[0m \u001b[38;5;250m        \u001b[39m\u001b[38;5;124;03m\"\"\"\u001b[39;00m\n\u001b[0;32m    108\u001b[0m \u001b[38;5;124;03m        `load_boston` has been removed from scikit-learn since version 1.2.\u001b[39;00m\n\u001b[1;32m   (...)\u001b[0m\n\u001b[0;32m    154\u001b[0m \u001b[38;5;124;03m        \"\"\"\u001b[39;00m\n\u001b[0;32m    155\u001b[0m     )\n\u001b[1;32m--> 156\u001b[0m     \u001b[38;5;28;01mraise\u001b[39;00m \u001b[38;5;167;01mImportError\u001b[39;00m(msg)\n\u001b[0;32m    157\u001b[0m \u001b[38;5;28;01mtry\u001b[39;00m:\n\u001b[0;32m    158\u001b[0m     \u001b[38;5;28;01mreturn\u001b[39;00m \u001b[38;5;28mglobals\u001b[39m()[name]\n",
      "\u001b[1;31mImportError\u001b[0m: \n`load_boston` has been removed from scikit-learn since version 1.2.\n\nThe Boston housing prices dataset has an ethical problem: as\ninvestigated in [1], the authors of this dataset engineered a\nnon-invertible variable \"B\" assuming that racial self-segregation had a\npositive impact on house prices [2]. Furthermore the goal of the\nresearch that led to the creation of this dataset was to study the\nimpact of air quality but it did not give adequate demonstration of the\nvalidity of this assumption.\n\nThe scikit-learn maintainers therefore strongly discourage the use of\nthis dataset unless the purpose of the code is to study and educate\nabout ethical issues in data science and machine learning.\n\nIn this special case, you can fetch the dataset from the original\nsource::\n\n    import pandas as pd\n    import numpy as np\n\n    data_url = \"http://lib.stat.cmu.edu/datasets/boston\"\n    raw_df = pd.read_csv(data_url, sep=\"\\s+\", skiprows=22, header=None)\n    data = np.hstack([raw_df.values[::2, :], raw_df.values[1::2, :2]])\n    target = raw_df.values[1::2, 2]\n\nAlternative datasets include the California housing dataset and the\nAmes housing dataset. You can load the datasets as follows::\n\n    from sklearn.datasets import fetch_california_housing\n    housing = fetch_california_housing()\n\nfor the California housing dataset and::\n\n    from sklearn.datasets import fetch_openml\n    housing = fetch_openml(name=\"house_prices\", as_frame=True)\n\nfor the Ames housing dataset.\n\n[1] M Carlisle.\n\"Racist data destruction?\"\n<https://medium.com/@docintangible/racist-data-destruction-113e3eff54a8>\n\n[2] Harrison Jr, David, and Daniel L. Rubinfeld.\n\"Hedonic housing prices and the demand for clean air.\"\nJournal of environmental economics and management 5.1 (1978): 81-102.\n<https://www.researchgate.net/publication/4974606_Hedonic_housing_prices_and_the_demand_for_clean_air>\n"
     ]
    }
   ],
   "source": [
    "from sklearn.datasets import load_boston"
   ]
  },
  {
   "cell_type": "code",
   "execution_count": 133,
   "id": "52b770c2-4c4e-41f8-9554-15dcd08a0c42",
   "metadata": {},
   "outputs": [],
   "source": [
    "from sklearn.datasets import fetch_openml\n",
    "housing = fetch_openml(name=\"house_prices\", as_frame=True)"
   ]
  },
  {
   "cell_type": "code",
   "execution_count": 134,
   "id": "24cef8c6-4578-451a-a287-612028f4826e",
   "metadata": {},
   "outputs": [],
   "source": [
    "from sklearn.linear_model import LinearRegression"
   ]
  },
  {
   "cell_type": "code",
   "execution_count": 135,
   "id": "d9656e05-6894-4cad-b79d-bebceab8cc1b",
   "metadata": {},
   "outputs": [],
   "source": [
    "clf = LinearRegression()\n",
    "sfm = feature_selection.SelectFromModel(clf, threshold=0.25)"
   ]
  },
  {
   "cell_type": "code",
   "execution_count": 136,
   "id": "fcd2cad3-52fd-4fae-b492-05eb54429375",
   "metadata": {},
   "outputs": [],
   "source": [
    "#sfm.fit_transform(boston.data, boston.target).shape\n",
    "#sfm.fit_transform(housing.data, housing.target).shape"
   ]
  },
  {
   "cell_type": "code",
   "execution_count": 137,
   "id": "f8bb1feb-346b-4cb6-8b18-22786de81a3d",
   "metadata": {},
   "outputs": [
    {
     "data": {
      "text/plain": [
       "(1460, 80)"
      ]
     },
     "execution_count": 137,
     "metadata": {},
     "output_type": "execute_result"
    }
   ],
   "source": [
    "housing.data.shape"
   ]
  },
  {
   "cell_type": "markdown",
   "id": "c63ef204-dd79-47fe-928c-0f574fa4228e",
   "metadata": {},
   "source": [
    "#### 12. Recursive Feature Elimination\n",
    "- Uses an external estimator to calculate weights of features\n",
    "- First, the estimator is trained on the initial set of features and the importance of each feature is obtained either through a coef_ attribute or through a feature_importances_ attribute.\n",
    "- Then, the least important features are pruned from current set of features.\n",
    "- That procedure is recursively repeated on the pruned set until the desired number of features to select is eventually reached."
   ]
  },
  {
   "cell_type": "code",
   "execution_count": 138,
   "id": "5ee597e2-c8de-4d42-aeb9-6ebf6e1abf4a",
   "metadata": {},
   "outputs": [],
   "source": [
    "from sklearn.datasets import make_regression\n",
    "from sklearn.feature_selection import RFE\n",
    "from sklearn.svm import SVR\n",
    "X, y = make_regression(n_samples=50, n_features=10, random_state=0)\n",
    "estimator = SVR(kernel=\"linear\")\n",
    "\n",
    "#selector = RFE(estimator, 5, step=1)\n",
    "\n",
    "# Correctly initialize RFE with keyword arguments\n",
    "selector = RFE(estimator=estimator, n_features_to_select=5, step=1)\n",
    "\n",
    "data = selector.fit_transform(X, y)"
   ]
  },
  {
   "cell_type": "code",
   "execution_count": 139,
   "id": "28b679bb-0b62-4a68-8669-3b46df7398bb",
   "metadata": {},
   "outputs": [
    {
     "data": {
      "text/plain": [
       "(50, 10)"
      ]
     },
     "execution_count": 139,
     "metadata": {},
     "output_type": "execute_result"
    }
   ],
   "source": [
    "X.shape"
   ]
  },
  {
   "cell_type": "code",
   "execution_count": 140,
   "id": "d4c9cabb-c741-4381-a32d-7207af74b8dc",
   "metadata": {},
   "outputs": [
    {
     "data": {
      "text/plain": [
       "(50, 5)"
      ]
     },
     "execution_count": 140,
     "metadata": {},
     "output_type": "execute_result"
    }
   ],
   "source": [
    "data.shape"
   ]
  },
  {
   "cell_type": "code",
   "execution_count": 141,
   "id": "4aae52d4-d034-431a-a208-ae40c9556c0c",
   "metadata": {},
   "outputs": [
    {
     "data": {
      "text/plain": [
       "array([1, 1, 4, 3, 1, 6, 1, 2, 5, 1])"
      ]
     },
     "execution_count": 141,
     "metadata": {},
     "output_type": "execute_result"
    }
   ],
   "source": [
    "selector.ranking_"
   ]
  },
  {
   "cell_type": "code",
   "execution_count": null,
   "id": "16d585a7-2da3-42ab-acdf-dfd19f674ef8",
   "metadata": {},
   "outputs": [],
   "source": []
  }
 ],
 "metadata": {
  "kernelspec": {
   "display_name": "Python 3 (ipykernel)",
   "language": "python",
   "name": "python3"
  },
  "language_info": {
   "codemirror_mode": {
    "name": "ipython",
    "version": 3
   },
   "file_extension": ".py",
   "mimetype": "text/x-python",
   "name": "python",
   "nbconvert_exporter": "python",
   "pygments_lexer": "ipython3",
   "version": "3.12.7"
  }
 },
 "nbformat": 4,
 "nbformat_minor": 5
}
