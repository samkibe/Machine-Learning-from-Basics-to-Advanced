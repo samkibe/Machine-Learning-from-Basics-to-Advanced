{
 "cells": [
  {
   "cell_type": "code",
   "execution_count": 2,
   "id": "5f448098-e8cf-401e-aedb-c2734658cead",
   "metadata": {},
   "outputs": [
    {
     "name": "stdout",
     "output_type": "stream",
     "text": [
      "LECON DEUX: Pandas\n"
     ]
    }
   ],
   "source": [
    "print(\"LECON DEUX: Pandas\")"
   ]
  },
  {
   "cell_type": "code",
   "execution_count": 3,
   "id": "49b41c27-94fb-4038-9f11-4e5c173094be",
   "metadata": {},
   "outputs": [
    {
     "name": "stdout",
     "output_type": "stream",
     "text": [
      "working with git\n"
     ]
    }
   ],
   "source": [
    "print (\"working with git\")"
   ]
  }
 ],
 "metadata": {
  "kernelspec": {
   "display_name": "Python 3 (ipykernel)",
   "language": "python",
   "name": "python3"
  },
  "language_info": {
   "codemirror_mode": {
    "name": "ipython",
    "version": 3
   },
   "file_extension": ".py",
   "mimetype": "text/x-python",
   "name": "python",
   "nbconvert_exporter": "python",
   "pygments_lexer": "ipython3",
   "version": "3.12.7"
  }
 },
 "nbformat": 4,
 "nbformat_minor": 5
}
